{
 "cells": [
  {
   "cell_type": "markdown",
   "metadata": {},
   "source": [
    "# Laden der Module und Bibliotheken"
   ]
  },
  {
   "cell_type": "code",
   "execution_count": 1,
   "metadata": {},
   "outputs": [],
   "source": [
    "from fastai.structured import *\n",
    "from fastai.column_data import *\n",
    "np.set_printoptions(threshold=50, edgeitems=20)\n",
    "\n",
    "from fastai.imports import *\n",
    "from fastai.structured import *\n",
    "\n",
    "from pandas_summary import DataFrameSummary\n",
    "from sklearn.ensemble import RandomForestRegressor\n",
    "from IPython.display import display\n",
    "\n",
    "from sklearn import metrics\n",
    "from sklearn.metrics import f1_score\n",
    "from sklearn.metrics import classification_report\n",
    "from sklearn.model_selection import GridSearchCV\n",
    "\n",
    "pd.options.display.max_columns = None\n",
    "pd.options.display.max_rows = None"
   ]
  },
  {
   "cell_type": "markdown",
   "metadata": {},
   "source": [
    "# Daten Einlesen"
   ]
  },
  {
   "cell_type": "code",
   "execution_count": 2,
   "metadata": {},
   "outputs": [],
   "source": [
    "PATH = 'data/House/'\n",
    "data = pd.read_csv(f'{PATH}train.csv')\n",
    "df_test = pd.read_csv(f'{PATH}test.csv')"
   ]
  },
  {
   "cell_type": "markdown",
   "metadata": {},
   "source": [
    "# Einen Überblick über die Daten bekommen"
   ]
  },
  {
   "cell_type": "code",
   "execution_count": 3,
   "metadata": {},
   "outputs": [
    {
     "name": "stdout",
     "output_type": "stream",
     "text": [
      "<class 'pandas.core.frame.DataFrame'>\n",
      "RangeIndex: 1460 entries, 0 to 1459\n",
      "Data columns (total 81 columns):\n",
      "Id               1460 non-null int64\n",
      "MSSubClass       1460 non-null int64\n",
      "MSZoning         1460 non-null object\n",
      "LotFrontage      1201 non-null float64\n",
      "LotArea          1460 non-null int64\n",
      "Street           1460 non-null object\n",
      "Alley            91 non-null object\n",
      "LotShape         1460 non-null object\n",
      "LandContour      1460 non-null object\n",
      "Utilities        1460 non-null object\n",
      "LotConfig        1460 non-null object\n",
      "LandSlope        1460 non-null object\n",
      "Neighborhood     1460 non-null object\n",
      "Condition1       1460 non-null object\n",
      "Condition2       1460 non-null object\n",
      "BldgType         1460 non-null object\n",
      "HouseStyle       1460 non-null object\n",
      "OverallQual      1460 non-null int64\n",
      "OverallCond      1460 non-null int64\n",
      "YearBuilt        1460 non-null int64\n",
      "YearRemodAdd     1460 non-null int64\n",
      "RoofStyle        1460 non-null object\n",
      "RoofMatl         1460 non-null object\n",
      "Exterior1st      1460 non-null object\n",
      "Exterior2nd      1460 non-null object\n",
      "MasVnrType       1452 non-null object\n",
      "MasVnrArea       1452 non-null float64\n",
      "ExterQual        1460 non-null object\n",
      "ExterCond        1460 non-null object\n",
      "Foundation       1460 non-null object\n",
      "BsmtQual         1423 non-null object\n",
      "BsmtCond         1423 non-null object\n",
      "BsmtExposure     1422 non-null object\n",
      "BsmtFinType1     1423 non-null object\n",
      "BsmtFinSF1       1460 non-null int64\n",
      "BsmtFinType2     1422 non-null object\n",
      "BsmtFinSF2       1460 non-null int64\n",
      "BsmtUnfSF        1460 non-null int64\n",
      "TotalBsmtSF      1460 non-null int64\n",
      "Heating          1460 non-null object\n",
      "HeatingQC        1460 non-null object\n",
      "CentralAir       1460 non-null object\n",
      "Electrical       1459 non-null object\n",
      "1stFlrSF         1460 non-null int64\n",
      "2ndFlrSF         1460 non-null int64\n",
      "LowQualFinSF     1460 non-null int64\n",
      "GrLivArea        1460 non-null int64\n",
      "BsmtFullBath     1460 non-null int64\n",
      "BsmtHalfBath     1460 non-null int64\n",
      "FullBath         1460 non-null int64\n",
      "HalfBath         1460 non-null int64\n",
      "BedroomAbvGr     1460 non-null int64\n",
      "KitchenAbvGr     1460 non-null int64\n",
      "KitchenQual      1460 non-null object\n",
      "TotRmsAbvGrd     1460 non-null int64\n",
      "Functional       1460 non-null object\n",
      "Fireplaces       1460 non-null int64\n",
      "FireplaceQu      770 non-null object\n",
      "GarageType       1379 non-null object\n",
      "GarageYrBlt      1379 non-null float64\n",
      "GarageFinish     1379 non-null object\n",
      "GarageCars       1460 non-null int64\n",
      "GarageArea       1460 non-null int64\n",
      "GarageQual       1379 non-null object\n",
      "GarageCond       1379 non-null object\n",
      "PavedDrive       1460 non-null object\n",
      "WoodDeckSF       1460 non-null int64\n",
      "OpenPorchSF      1460 non-null int64\n",
      "EnclosedPorch    1460 non-null int64\n",
      "3SsnPorch        1460 non-null int64\n",
      "ScreenPorch      1460 non-null int64\n",
      "PoolArea         1460 non-null int64\n",
      "PoolQC           7 non-null object\n",
      "Fence            281 non-null object\n",
      "MiscFeature      54 non-null object\n",
      "MiscVal          1460 non-null int64\n",
      "MoSold           1460 non-null int64\n",
      "YrSold           1460 non-null int64\n",
      "SaleType         1460 non-null object\n",
      "SaleCondition    1460 non-null object\n",
      "SalePrice        1460 non-null int64\n",
      "dtypes: float64(3), int64(35), object(43)\n",
      "memory usage: 924.0+ KB\n"
     ]
    },
    {
     "data": {
      "text/plain": [
       "(                     0        1        2        3        4\n",
       " Id                   1        2        3        4        5\n",
       " MSSubClass          60       20       60       70       60\n",
       " MSZoning            RL       RL       RL       RL       RL\n",
       " LotFrontage         65       80       68       60       84\n",
       " LotArea           8450     9600    11250     9550    14260\n",
       " Street            Pave     Pave     Pave     Pave     Pave\n",
       " Alley              NaN      NaN      NaN      NaN      NaN\n",
       " LotShape           Reg      Reg      IR1      IR1      IR1\n",
       " LandContour        Lvl      Lvl      Lvl      Lvl      Lvl\n",
       " Utilities       AllPub   AllPub   AllPub   AllPub   AllPub\n",
       " LotConfig       Inside      FR2   Inside   Corner      FR2\n",
       " LandSlope          Gtl      Gtl      Gtl      Gtl      Gtl\n",
       " Neighborhood   CollgCr  Veenker  CollgCr  Crawfor  NoRidge\n",
       " Condition1        Norm    Feedr     Norm     Norm     Norm\n",
       " Condition2        Norm     Norm     Norm     Norm     Norm\n",
       " BldgType          1Fam     1Fam     1Fam     1Fam     1Fam\n",
       " HouseStyle      2Story   1Story   2Story   2Story   2Story\n",
       " OverallQual          7        6        7        7        8\n",
       " OverallCond          5        8        5        5        5\n",
       " YearBuilt         2003     1976     2001     1915     2000\n",
       " YearRemodAdd      2003     1976     2002     1970     2000\n",
       " RoofStyle        Gable    Gable    Gable    Gable    Gable\n",
       " RoofMatl       CompShg  CompShg  CompShg  CompShg  CompShg\n",
       " Exterior1st    VinylSd  MetalSd  VinylSd  Wd Sdng  VinylSd\n",
       " Exterior2nd    VinylSd  MetalSd  VinylSd  Wd Shng  VinylSd\n",
       " MasVnrType     BrkFace     None  BrkFace     None  BrkFace\n",
       " MasVnrArea         196        0      162        0      350\n",
       " ExterQual           Gd       TA       Gd       TA       Gd\n",
       " ExterCond           TA       TA       TA       TA       TA\n",
       " Foundation       PConc   CBlock    PConc   BrkTil    PConc\n",
       " BsmtQual            Gd       Gd       Gd       TA       Gd\n",
       " BsmtCond            TA       TA       TA       Gd       TA\n",
       " BsmtExposure        No       Gd       Mn       No       Av\n",
       " BsmtFinType1       GLQ      ALQ      GLQ      ALQ      GLQ\n",
       " BsmtFinSF1         706      978      486      216      655\n",
       " BsmtFinType2       Unf      Unf      Unf      Unf      Unf\n",
       " BsmtFinSF2           0        0        0        0        0\n",
       " BsmtUnfSF          150      284      434      540      490\n",
       " TotalBsmtSF        856     1262      920      756     1145\n",
       " Heating           GasA     GasA     GasA     GasA     GasA\n",
       " HeatingQC           Ex       Ex       Ex       Gd       Ex\n",
       " CentralAir           Y        Y        Y        Y        Y\n",
       " Electrical       SBrkr    SBrkr    SBrkr    SBrkr    SBrkr\n",
       " 1stFlrSF           856     1262      920      961     1145\n",
       " 2ndFlrSF           854        0      866      756     1053\n",
       " LowQualFinSF         0        0        0        0        0\n",
       " GrLivArea         1710     1262     1786     1717     2198\n",
       " BsmtFullBath         1        0        1        1        1\n",
       " BsmtHalfBath         0        1        0        0        0\n",
       " FullBath             2        2        2        1        2\n",
       " HalfBath             1        0        1        0        1\n",
       " BedroomAbvGr         3        3        3        3        4\n",
       " KitchenAbvGr         1        1        1        1        1\n",
       " KitchenQual         Gd       TA       Gd       Gd       Gd\n",
       " TotRmsAbvGrd         8        6        6        7        9\n",
       " Functional         Typ      Typ      Typ      Typ      Typ\n",
       " Fireplaces           0        1        1        1        1\n",
       " FireplaceQu        NaN       TA       TA       Gd       TA\n",
       " GarageType      Attchd   Attchd   Attchd   Detchd   Attchd\n",
       " GarageYrBlt       2003     1976     2001     1998     2000\n",
       " GarageFinish       RFn      RFn      RFn      Unf      RFn\n",
       " GarageCars           2        2        2        3        3\n",
       " GarageArea         548      460      608      642      836\n",
       " GarageQual          TA       TA       TA       TA       TA\n",
       " GarageCond          TA       TA       TA       TA       TA\n",
       " PavedDrive           Y        Y        Y        Y        Y\n",
       " WoodDeckSF           0      298        0        0      192\n",
       " OpenPorchSF         61        0       42       35       84\n",
       " EnclosedPorch        0        0        0      272        0\n",
       " 3SsnPorch            0        0        0        0        0\n",
       " ScreenPorch          0        0        0        0        0\n",
       " PoolArea             0        0        0        0        0\n",
       " PoolQC             NaN      NaN      NaN      NaN      NaN\n",
       " Fence              NaN      NaN      NaN      NaN      NaN\n",
       " MiscFeature        NaN      NaN      NaN      NaN      NaN\n",
       " MiscVal              0        0        0        0        0\n",
       " MoSold               2        5        9        2       12\n",
       " YrSold            2008     2007     2008     2006     2008\n",
       " SaleType            WD       WD       WD       WD       WD\n",
       " SaleCondition   Normal   Normal   Normal  Abnorml   Normal\n",
       " SalePrice       208500   181500   223500   140000   250000, None)"
      ]
     },
     "execution_count": 3,
     "metadata": {},
     "output_type": "execute_result"
    }
   ],
   "source": [
    "data.head().T, data.info()"
   ]
  },
  {
   "cell_type": "markdown",
   "metadata": {},
   "source": [
    "# Datentypen"
   ]
  },
  {
   "cell_type": "markdown",
   "metadata": {},
   "source": [
    "Objekt Datentypen in Categorische Datentypen umwandeln"
   ]
  },
  {
   "cell_type": "code",
   "execution_count": 4,
   "metadata": {},
   "outputs": [
    {
     "data": {
      "text/plain": [
       "array(['Pave', 'Grvl'], dtype=object)"
      ]
     },
     "execution_count": 4,
     "metadata": {},
     "output_type": "execute_result"
    }
   ],
   "source": [
    "data.Street.unique()"
   ]
  },
  {
   "cell_type": "code",
   "execution_count": 5,
   "metadata": {},
   "outputs": [],
   "source": [
    "cat_vars = ['MSZoning', 'Street', 'Alley', 'LotShape', 'LandContour', 'Utilities',\n",
    "       'LotConfig', 'LandSlope', 'Neighborhood', 'Condition1', 'Condition2',\n",
    "       'BldgType', 'HouseStyle', 'RoofStyle', 'RoofMatl', 'Exterior1st',\n",
    "       'Exterior2nd', 'MasVnrType', 'ExterQual', 'ExterCond', 'Foundation',\n",
    "       'BsmtQual', 'BsmtCond', 'BsmtExposure', 'BsmtFinType1', 'BsmtFinType2',\n",
    "       'Heating', 'HeatingQC', 'CentralAir', 'Electrical', 'KitchenQual',\n",
    "       'Functional', 'FireplaceQu', 'GarageType', 'GarageFinish', 'GarageQual',\n",
    "       'GarageCond', 'PavedDrive', 'PoolQC', 'Fence', 'MiscFeature',\n",
    "       'SaleType', 'SaleCondition']\n",
    "\n",
    "contin_vars = ['MSSubClass', 'LotFrontage', 'LotArea', 'OverallQual',\n",
    "       'OverallCond', 'YearBuilt', 'YearRemodAdd', 'MasVnrArea', 'BsmtFinSF1',\n",
    "       'BsmtFinSF2', 'BsmtUnfSF', 'TotalBsmtSF', '1stFlrSF', '2ndFlrSF',\n",
    "       'LowQualFinSF', 'GrLivArea', 'BsmtFullBath', 'BsmtHalfBath', 'FullBath',\n",
    "       'HalfBath', 'BedroomAbvGr', 'KitchenAbvGr', 'TotRmsAbvGrd',\n",
    "       'Fireplaces', 'GarageYrBlt', 'GarageCars', 'GarageArea', 'WoodDeckSF',\n",
    "       'OpenPorchSF', 'EnclosedPorch', '3SsnPorch', 'ScreenPorch', 'PoolArea',\n",
    "       'MiscVal', 'MoSold', 'YrSold']\n",
    "\n",
    "objective= ['SalePrice']\n",
    "\n",
    "ids = ['Id']\n",
    "\n",
    "for v in cat_vars: \n",
    "    data[v] = data[v].astype('category').cat.as_ordered()\n",
    "\n",
    "apply_cats(df_test,data)"
   ]
  },
  {
   "cell_type": "markdown",
   "metadata": {},
   "source": [
    "# Fehlende Daten"
   ]
  },
  {
   "cell_type": "markdown",
   "metadata": {},
   "source": [
    "Fehlende felder bei durchgängigen Variablen mit null ersetzen \n",
    "und in Datentyp float umwandeln"
   ]
  },
  {
   "cell_type": "code",
   "execution_count": 6,
   "metadata": {},
   "outputs": [],
   "source": [
    "for v in contin_vars: \n",
    "    data[v] = data[v].fillna(0).astype('float32')\n",
    "for v in contin_vars: \n",
    "    df_test[v] = df_test[v].fillna(0).astype('float32')"
   ]
  },
  {
   "cell_type": "markdown",
   "metadata": {},
   "source": [
    "# Dataframe in Trainingsdaten und Label trennen"
   ]
  },
  {
   "cell_type": "code",
   "execution_count": 7,
   "metadata": {},
   "outputs": [],
   "source": [
    "data = data.set_index('Id')\n",
    "data = data[cat_vars+contin_vars+objective]\n",
    "\n",
    "df, y, nas, mapper = proc_df(data,'SalePrice',do_scale=True)\n",
    "\n",
    "df_test = df_test.set_index('Id')\n",
    "df_test['SalePrice'] = 0\n",
    "df_test = df_test[cat_vars+contin_vars+objective]\n",
    "\n",
    "df_test, _, nas, mapper = proc_df(df_test,'SalePrice',do_scale=True, mapper=mapper,na_dict=nas)"
   ]
  },
  {
   "cell_type": "markdown",
   "metadata": {},
   "source": [
    "# Die Zielvariable betrachten"
   ]
  },
  {
   "cell_type": "code",
   "execution_count": 8,
   "metadata": {},
   "outputs": [
    {
     "name": "stderr",
     "output_type": "stream",
     "text": [
      "/usr/local/lib/python3.6/dist-packages/matplotlib/axes/_axes.py:6462: UserWarning: The 'normed' kwarg is deprecated, and has been replaced by the 'density' kwarg.\n",
      "  warnings.warn(\"The 'normed' kwarg is deprecated, and has been \"\n"
     ]
    },
    {
     "data": {
      "text/plain": [
       "(count      1460.000000\n",
       " mean     180921.195890\n",
       " std       79442.502883\n",
       " min       34900.000000\n",
       " 25%      129975.000000\n",
       " 50%      163000.000000\n",
       " 75%      214000.000000\n",
       " max      755000.000000\n",
       " Name: SalePrice, dtype: float64,\n",
       " <matplotlib.axes._subplots.AxesSubplot at 0x7f7957388eb8>)"
      ]
     },
     "execution_count": 8,
     "metadata": {},
     "output_type": "execute_result"
    },
    {
     "data": {
      "image/png": "[encoded data removed]",
      "text/plain": [
       "<Figure size 432x288 with 1 Axes>"
      ]
     },
     "metadata": {},
     "output_type": "display_data"
    }
   ],
   "source": [
    "data['SalePrice'].describe(), sns.distplot(data['SalePrice'])"
   ]
  },
  {
   "cell_type": "markdown",
   "metadata": {},
   "source": [
    "Abhängige variable 'SalePrice' logamitrieren"
   ]
  },
  {
   "cell_type": "code",
   "execution_count": 9,
   "metadata": {},
   "outputs": [
    {
     "name": "stderr",
     "output_type": "stream",
     "text": [
      "/usr/local/lib/python3.6/dist-packages/matplotlib/axes/_axes.py:6462: UserWarning: The 'normed' kwarg is deprecated, and has been replaced by the 'density' kwarg.\n",
      "  warnings.warn(\"The 'normed' kwarg is deprecated, and has been \"\n"
     ]
    },
    {
     "data": {
      "text/plain": [
       "<matplotlib.axes._subplots.AxesSubplot at 0x7f7957428c50>"
      ]
     },
     "execution_count": 9,
     "metadata": {},
     "output_type": "execute_result"
    },
    {
     "data": {
      "image/png": "[encoded data removed]",
      "text/plain": [
       "<Figure size 432x288 with 1 Axes>"
      ]
     },
     "metadata": {},
     "output_type": "display_data"
    }
   ],
   "source": [
    "yl = np.log(y)\n",
    "sns.distplot(yl)"
   ]
  },
  {
   "cell_type": "markdown",
   "metadata": {},
   "source": [
    "# Bewertung des Machine-learning Models"
   ]
  },
  {
   "cell_type": "markdown",
   "metadata": {},
   "source": [
    "Metric definieren und variablen in Trainings und Validierungsset aufteilen"
   ]
  },
  {
   "cell_type": "code",
   "execution_count": 10,
   "metadata": {},
   "outputs": [],
   "source": [
    "def rmse(x,y): \n",
    "    return math.sqrt(((x-y)**2).mean())\n",
    "\n",
    "def print_score(m):\n",
    "    res=[rmse(m.predict(X_train),y_train), \n",
    "         rmse(m.predict(X_valid),y_valid),\n",
    "         m.score(X_train,y_train),\n",
    "         m.score(X_valid,y_valid)]\n",
    "    print(res)\n",
    "\n",
    "    \n",
    "def split_vals(a,n):\n",
    "    return a[:n],a[n:]\n",
    "\n",
    "n_valid = int(len(df)*0.2)\n",
    "n_trn = len(df)-n_valid\n",
    "X_train, X_valid = split_vals(df,n_trn)\n",
    "y_train, y_valid = split_vals(yl,n_trn)\n",
    "raw_train, raw_valid = split_vals(data, n_trn)"
   ]
  },
  {
   "cell_type": "markdown",
   "metadata": {},
   "source": [
    "# Das Model"
   ]
  },
  {
   "cell_type": "code",
   "execution_count": 11,
   "metadata": {},
   "outputs": [
    {
     "name": "stdout",
     "output_type": "stream",
     "text": [
      "[0.06535765059001554, 0.14587370199645477, 0.9734767294822536, 0.8608858542092401]\n"
     ]
    }
   ],
   "source": [
    "m = RandomForestRegressor(n_estimators=100,min_samples_split=2, min_samples_leaf=2,max_features=0.5)\n",
    "m.fit(X_train,y_train)\n",
    "print_score(m)"
   ]
  },
  {
   "cell_type": "markdown",
   "metadata": {},
   "source": [
    "# Featurewichtigkeit"
   ]
  },
  {
   "cell_type": "markdown",
   "metadata": {},
   "source": [
    "Featurewichtigkeit berechnen"
   ]
  },
  {
   "cell_type": "code",
   "execution_count": 12,
   "metadata": {},
   "outputs": [
    {
     "data": {
      "text/html": [
       "<div>\n",
       "<style scoped>\n",
       "    .dataframe tbody tr th:only-of-type {\n",
       "        vertical-align: middle;\n",
       "    }\n",
       "\n",
       "    .dataframe tbody tr th {\n",
       "        vertical-align: top;\n",
       "    }\n",
       "\n",
       "    .dataframe thead th {\n",
       "        text-align: right;\n",
       "    }\n",
       "</style>\n",
       "<table border=\"1\" class=\"dataframe\">\n",
       "  <thead>\n",
       "    <tr style=\"text-align: right;\">\n",
       "      <th></th>\n",
       "      <th>cols</th>\n",
       "      <th>imp</th>\n",
       "    </tr>\n",
       "  </thead>\n",
       "  <tbody>\n",
       "    <tr>\n",
       "      <th>46</th>\n",
       "      <td>OverallQual</td>\n",
       "      <td>0.304174</td>\n",
       "    </tr>\n",
       "    <tr>\n",
       "      <th>58</th>\n",
       "      <td>GrLivArea</td>\n",
       "      <td>0.174944</td>\n",
       "    </tr>\n",
       "    <tr>\n",
       "      <th>48</th>\n",
       "      <td>YearBuilt</td>\n",
       "      <td>0.095249</td>\n",
       "    </tr>\n",
       "    <tr>\n",
       "      <th>18</th>\n",
       "      <td>ExterQual</td>\n",
       "      <td>0.049759</td>\n",
       "    </tr>\n",
       "    <tr>\n",
       "      <th>54</th>\n",
       "      <td>TotalBsmtSF</td>\n",
       "      <td>0.048840</td>\n",
       "    </tr>\n",
       "    <tr>\n",
       "      <th>69</th>\n",
       "      <td>GarageArea</td>\n",
       "      <td>0.037856</td>\n",
       "    </tr>\n",
       "    <tr>\n",
       "      <th>55</th>\n",
       "      <td>1stFlrSF</td>\n",
       "      <td>0.031003</td>\n",
       "    </tr>\n",
       "    <tr>\n",
       "      <th>68</th>\n",
       "      <td>GarageCars</td>\n",
       "      <td>0.027665</td>\n",
       "    </tr>\n",
       "    <tr>\n",
       "      <th>51</th>\n",
       "      <td>BsmtFinSF1</td>\n",
       "      <td>0.020261</td>\n",
       "    </tr>\n",
       "    <tr>\n",
       "      <th>61</th>\n",
       "      <td>FullBath</td>\n",
       "      <td>0.017919</td>\n",
       "    </tr>\n",
       "    <tr>\n",
       "      <th>45</th>\n",
       "      <td>LotArea</td>\n",
       "      <td>0.017011</td>\n",
       "    </tr>\n",
       "    <tr>\n",
       "      <th>49</th>\n",
       "      <td>YearRemodAdd</td>\n",
       "      <td>0.012920</td>\n",
       "    </tr>\n",
       "    <tr>\n",
       "      <th>28</th>\n",
       "      <td>CentralAir</td>\n",
       "      <td>0.011508</td>\n",
       "    </tr>\n",
       "    <tr>\n",
       "      <th>56</th>\n",
       "      <td>2ndFlrSF</td>\n",
       "      <td>0.010461</td>\n",
       "    </tr>\n",
       "    <tr>\n",
       "      <th>67</th>\n",
       "      <td>GarageYrBlt</td>\n",
       "      <td>0.009967</td>\n",
       "    </tr>\n",
       "    <tr>\n",
       "      <th>32</th>\n",
       "      <td>FireplaceQu</td>\n",
       "      <td>0.009856</td>\n",
       "    </tr>\n",
       "    <tr>\n",
       "      <th>47</th>\n",
       "      <td>OverallCond</td>\n",
       "      <td>0.009704</td>\n",
       "    </tr>\n",
       "    <tr>\n",
       "      <th>21</th>\n",
       "      <td>BsmtQual</td>\n",
       "      <td>0.007373</td>\n",
       "    </tr>\n",
       "    <tr>\n",
       "      <th>0</th>\n",
       "      <td>MSZoning</td>\n",
       "      <td>0.007278</td>\n",
       "    </tr>\n",
       "    <tr>\n",
       "      <th>8</th>\n",
       "      <td>Neighborhood</td>\n",
       "      <td>0.005349</td>\n",
       "    </tr>\n",
       "    <tr>\n",
       "      <th>65</th>\n",
       "      <td>TotRmsAbvGrd</td>\n",
       "      <td>0.005274</td>\n",
       "    </tr>\n",
       "    <tr>\n",
       "      <th>53</th>\n",
       "      <td>BsmtUnfSF</td>\n",
       "      <td>0.005012</td>\n",
       "    </tr>\n",
       "    <tr>\n",
       "      <th>33</th>\n",
       "      <td>GarageType</td>\n",
       "      <td>0.004813</td>\n",
       "    </tr>\n",
       "    <tr>\n",
       "      <th>30</th>\n",
       "      <td>KitchenQual</td>\n",
       "      <td>0.004688</td>\n",
       "    </tr>\n",
       "    <tr>\n",
       "      <th>66</th>\n",
       "      <td>Fireplaces</td>\n",
       "      <td>0.004291</td>\n",
       "    </tr>\n",
       "    <tr>\n",
       "      <th>77</th>\n",
       "      <td>MoSold</td>\n",
       "      <td>0.004287</td>\n",
       "    </tr>\n",
       "    <tr>\n",
       "      <th>44</th>\n",
       "      <td>LotFrontage</td>\n",
       "      <td>0.004251</td>\n",
       "    </tr>\n",
       "    <tr>\n",
       "      <th>71</th>\n",
       "      <td>OpenPorchSF</td>\n",
       "      <td>0.003907</td>\n",
       "    </tr>\n",
       "    <tr>\n",
       "      <th>35</th>\n",
       "      <td>GarageQual</td>\n",
       "      <td>0.003493</td>\n",
       "    </tr>\n",
       "    <tr>\n",
       "      <th>50</th>\n",
       "      <td>MasVnrArea</td>\n",
       "      <td>0.003311</td>\n",
       "    </tr>\n",
       "  </tbody>\n",
       "</table>\n",
       "</div>"
      ],
      "text/plain": [
       "            cols       imp\n",
       "46   OverallQual  0.304174\n",
       "58     GrLivArea  0.174944\n",
       "48     YearBuilt  0.095249\n",
       "18     ExterQual  0.049759\n",
       "54   TotalBsmtSF  0.048840\n",
       "69    GarageArea  0.037856\n",
       "55      1stFlrSF  0.031003\n",
       "68    GarageCars  0.027665\n",
       "51    BsmtFinSF1  0.020261\n",
       "61      FullBath  0.017919\n",
       "45       LotArea  0.017011\n",
       "49  YearRemodAdd  0.012920\n",
       "28    CentralAir  0.011508\n",
       "56      2ndFlrSF  0.010461\n",
       "67   GarageYrBlt  0.009967\n",
       "32   FireplaceQu  0.009856\n",
       "47   OverallCond  0.009704\n",
       "21      BsmtQual  0.007373\n",
       "0       MSZoning  0.007278\n",
       "8   Neighborhood  0.005349\n",
       "65  TotRmsAbvGrd  0.005274\n",
       "53     BsmtUnfSF  0.005012\n",
       "33    GarageType  0.004813\n",
       "30   KitchenQual  0.004688\n",
       "66    Fireplaces  0.004291\n",
       "77        MoSold  0.004287\n",
       "44   LotFrontage  0.004251\n",
       "71   OpenPorchSF  0.003907\n",
       "35    GarageQual  0.003493\n",
       "50    MasVnrArea  0.003311"
      ]
     },
     "execution_count": 12,
     "metadata": {},
     "output_type": "execute_result"
    }
   ],
   "source": [
    "fe_imp = rf_feat_importance(m,df)\n",
    "fe_imp[:30]"
   ]
  },
  {
   "cell_type": "markdown",
   "metadata": {},
   "source": [
    "Featurewichtigkeit plotten"
   ]
  },
  {
   "cell_type": "code",
   "execution_count": 13,
   "metadata": {},
   "outputs": [
    {
     "data": {
      "image/png": "[encoded data removed]",
      "text/plain": [
       "<Figure size 864x504 with 1 Axes>"
      ]
     },
     "metadata": {},
     "output_type": "display_data"
    }
   ],
   "source": [
    "def plot_fi(fi): \n",
    "    return fi.plot('cols', 'imp', 'barh', figsize=(12,7), legend=False)\n",
    "plot_fi(fe_imp[0:30]);"
   ]
  },
  {
   "cell_type": "markdown",
   "metadata": {},
   "source": [
    "Unwichtige Features raus nehmen um die Featurewichtigkeiten klarer heraus zu stellen"
   ]
  },
  {
   "cell_type": "code",
   "execution_count": 14,
   "metadata": {},
   "outputs": [
    {
     "name": "stdout",
     "output_type": "stream",
     "text": [
      "[0.0650205976353843, 0.14316841185443885, 0.9737495879841831, 0.8659978708480939]\n"
     ]
    }
   ],
   "source": [
    "to_keep = fe_imp[fe_imp.imp>0.001].cols; len(to_keep)\n",
    "df_keep = df[to_keep].copy()\n",
    "X_train, X_valid = split_vals(df_keep, n_trn)\n",
    "m = RandomForestRegressor(n_estimators=100,min_samples_split=2, min_samples_leaf=2,max_features=0.5)\n",
    "m.fit(X_train,y_train)\n",
    "print_score(m)"
   ]
  },
  {
   "cell_type": "markdown",
   "metadata": {},
   "source": [
    "Erneut die Featurewichtigkeit betrachten"
   ]
  },
  {
   "cell_type": "code",
   "execution_count": 15,
   "metadata": {},
   "outputs": [
    {
     "data": {
      "image/png": "[encoded data removed]",
      "text/plain": [
       "<Figure size 864x504 with 1 Axes>"
      ]
     },
     "metadata": {},
     "output_type": "display_data"
    }
   ],
   "source": [
    "fe_imp = rf_feat_importance(m,df_keep)\n",
    "fe_imp[:30],\n",
    "plot_fi(fe_imp[0:30]);"
   ]
  },
  {
   "cell_type": "code",
   "execution_count": null,
   "metadata": {},
   "outputs": [],
   "source": []
  },
  {
   "cell_type": "markdown",
   "metadata": {},
   "source": [
    "# Grid search"
   ]
  },
  {
   "cell_type": "code",
   "execution_count": 16,
   "metadata": {},
   "outputs": [],
   "source": [
    "# grid search initiieren\n",
    "from sklearn.metrics import make_scorer\n",
    "rmse_score = make_scorer(rmse)\n",
    "m = RandomForestRegressor()"
   ]
  },
  {
   "cell_type": "markdown",
   "metadata": {},
   "source": [
    "params={\n",
    "    'n_estimators': [10,30,90,180,250],\n",
    "    'min_samples_leaf': range(1,3),\n",
    "    'min_samples_split': [2,3,4],\n",
    "    'max_features':[0.5,'sqrt','log2',1]\n",
    "}"
   ]
  },
  {
   "cell_type": "code",
   "execution_count": 17,
   "metadata": {},
   "outputs": [
    {
     "data": {
      "text/plain": [
       "{'max_features': 0.5,\n",
       " 'min_samples_leaf': 1,\n",
       " 'min_samples_split': 2,\n",
       " 'n_estimators': 180}"
      ]
     },
     "execution_count": 17,
     "metadata": {},
     "output_type": "execute_result"
    }
   ],
   "source": [
    "# grid search durchführen \n",
    "params={\n",
    "    'n_estimators': [180],\n",
    "    'min_samples_leaf': [1],\n",
    "    'min_samples_split': [2],\n",
    "    'max_features':[0.5]\n",
    "}\n",
    "gs = GridSearchCV(m,params,scoring = rmse_score)\n",
    "gs.fit(X_train,y_train)\n",
    "gs.best_params_"
   ]
  },
  {
   "cell_type": "code",
   "execution_count": 18,
   "metadata": {},
   "outputs": [
    {
     "name": "stdout",
     "output_type": "stream",
     "text": [
      "[0.05253657712666442, 0.1431459896251269, 0.9828620939145233, 0.8660398408768927]\n"
     ]
    }
   ],
   "source": [
    "# Random forrest mit den besten parametern\n",
    "m = RandomForestRegressor(n_estimators=180,min_samples_split=2, min_samples_leaf=1,max_features=0.5)\n",
    "m.fit(X_train,y_train)\n",
    "print_score(m)"
   ]
  },
  {
   "cell_type": "markdown",
   "metadata": {},
   "source": [
    "# Fertiges Model"
   ]
  },
  {
   "cell_type": "markdown",
   "metadata": {},
   "source": [
    "Unser Model mit den optimalen Parametern noch einmal mit dem gesamte Datenset trainieren.\n",
    "(Trainingsset so wie Validierungsset)"
   ]
  },
  {
   "cell_type": "code",
   "execution_count": 38,
   "metadata": {},
   "outputs": [
    {
     "data": {
      "text/plain": [
       "RandomForestRegressor(bootstrap=True, criterion='mse', max_depth=None,\n",
       "           max_features=0.5, max_leaf_nodes=None,\n",
       "           min_impurity_decrease=0.0, min_impurity_split=None,\n",
       "           min_samples_leaf=1, min_samples_split=2,\n",
       "           min_weight_fraction_leaf=0.0, n_estimators=180, n_jobs=1,\n",
       "           oob_score=False, random_state=None, verbose=0, warm_start=False)"
      ]
     },
     "execution_count": 38,
     "metadata": {},
     "output_type": "execute_result"
    }
   ],
   "source": [
    "df_final = df[to_keep].copy()\n",
    "df_test = df_test[to_keep].copy()\n",
    "m = RandomForestRegressor(n_estimators=180,min_samples_split=2, min_samples_leaf=1,\n",
    "                          max_features=0.5)\n",
    "m.fit(df_final,yl)"
   ]
  },
  {
   "cell_type": "markdown",
   "metadata": {},
   "source": [
    "Ergebnisse in CSV File abspeichern"
   ]
  },
  {
   "cell_type": "code",
   "execution_count": 31,
   "metadata": {},
   "outputs": [
    {
     "data": {
      "text/html": [
       "<div>\n",
       "<style scoped>\n",
       "    .dataframe tbody tr th:only-of-type {\n",
       "        vertical-align: middle;\n",
       "    }\n",
       "\n",
       "    .dataframe tbody tr th {\n",
       "        vertical-align: top;\n",
       "    }\n",
       "\n",
       "    .dataframe thead th {\n",
       "        text-align: right;\n",
       "    }\n",
       "</style>\n",
       "<table border=\"1\" class=\"dataframe\">\n",
       "  <thead>\n",
       "    <tr style=\"text-align: right;\">\n",
       "      <th></th>\n",
       "      <th>Id</th>\n",
       "      <th>SalePrice</th>\n",
       "    </tr>\n",
       "  </thead>\n",
       "  <tbody>\n",
       "    <tr>\n",
       "      <th>0</th>\n",
       "      <td>1461</td>\n",
       "      <td>124566.158348</td>\n",
       "    </tr>\n",
       "    <tr>\n",
       "      <th>1</th>\n",
       "      <td>1462</td>\n",
       "      <td>149280.363331</td>\n",
       "    </tr>\n",
       "    <tr>\n",
       "      <th>2</th>\n",
       "      <td>1463</td>\n",
       "      <td>176817.064954</td>\n",
       "    </tr>\n",
       "    <tr>\n",
       "      <th>3</th>\n",
       "      <td>1464</td>\n",
       "      <td>181670.476314</td>\n",
       "    </tr>\n",
       "    <tr>\n",
       "      <th>4</th>\n",
       "      <td>1465</td>\n",
       "      <td>188358.640016</td>\n",
       "    </tr>\n",
       "  </tbody>\n",
       "</table>\n",
       "</div>"
      ],
      "text/plain": [
       "     Id      SalePrice\n",
       "0  1461  124566.158348\n",
       "1  1462  149280.363331\n",
       "2  1463  176817.064954\n",
       "3  1464  181670.476314\n",
       "4  1465  188358.640016"
      ]
     },
     "execution_count": 31,
     "metadata": {},
     "output_type": "execute_result"
    }
   ],
   "source": [
    "preds = m.predict(df_test)\n",
    "preds = np.exp(preds)\n",
    "sample_submission = pd.read_csv(f'{PATH}sample_submission.csv')\n",
    "sample_submission.head()\n",
    "sample_submission['SalePrice'] = preds\n",
    "sample_submission.head()"
   ]
  },
  {
   "cell_type": "code",
   "execution_count": null,
   "metadata": {},
   "outputs": [],
   "source": [
    "#sample_submission.to_csv('submission1.csv', index=False)"
   ]
  }
 ],
 "metadata": {
  "kernelspec": {
   "display_name": "Python 3",
   "language": "python",
   "name": "python3"
  },
  "language_info": {
   "codemirror_mode": {
    "name": "ipython",
    "version": 3
   },
   "file_extension": ".py",
   "mimetype": "text/x-python",
   "name": "python",
   "nbconvert_exporter": "python",
   "pygments_lexer": "ipython3",
   "version": "3.6.5"
  }
 },
 "nbformat": 4,
 "nbformat_minor": 2
}
